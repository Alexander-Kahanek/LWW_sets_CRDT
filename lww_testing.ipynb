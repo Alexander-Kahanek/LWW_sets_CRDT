{
 "metadata": {
  "language_info": {
   "codemirror_mode": {
    "name": "ipython",
    "version": 3
   },
   "file_extension": ".py",
   "mimetype": "text/x-python",
   "name": "python",
   "nbconvert_exporter": "python",
   "pygments_lexer": "ipython3",
   "version": "3.8.3-final"
  },
  "orig_nbformat": 2,
  "kernelspec": {
   "name": "python3",
   "display_name": "Python 3.8.3 64-bit",
   "metadata": {
    "interpreter": {
     "hash": "0de36b31320ba4c88b4f85a74724f3d16c36a44df48581253710b1065e752d9e"
    }
   }
  }
 },
 "nbformat": 4,
 "nbformat_minor": 2,
 "cells": [
  {
   "source": [
    "# Testing functionality of Last Writer Wins Element Set with CRDT Implementation\n",
    "\n",
    "This code and document is made by Alexander Kahanek on 3/31/2021.\n",
    "\n",
    "Resources used:\n",
    "\n",
    "+ https://www.youtube.com/watch?v=iEFcmfmdh2w \n",
    "+ https://www.youtube.com/watch?v=OOlnp2bZVRs \n",
    "+ https://hal.inria.fr/inria-00555588/PDF/techreport.pdf \n",
    "\n",
    "## LWW Element Set Implementation\n",
    "\n",
    "The functionality of the LWW set is that you can assign LWW graphs to each client, and be able to change elements (add or remove) without worry of them getting mixed up due to time or update issues. This allows for offline and asynchronous client side modification of elements, yet when the LWW graphs link up everything merges correctly without conflict.\n",
    "\n",
    "In this scenario, each LWW set has as many elements as it wants, which can be added or removed, and keeps track of two sets of elements. Both an Added (A) set and a Removed (R) set. Then the final kept set is determined by timestamps (Hybrid Logical Clock (HLC) seems to be best, but a simple implementation was not working for me locally). Effectively, if an element exists in A only, then it is added; however, if it exists in A and R, then you base it on the timestamp. If the timestamp is more recent for the element in R, then it is not included, else it is included. The benefits of this system is it sets up a clear winner for which elements are kept. Thus, when merging LWW graphs all you need to do is update all your elements to the max timestamp.\n",
    "\n",
    "The outline of the entire use case is:\n",
    "\n",
    "+ set up LWW graphs\n",
    "    - these graphs can be enabled for two clients\n",
    "\n",
    "+ add / remove elements\n",
    "    - keep all unique elements in both add and remove with most recent timestamp\n",
    "\n",
    "+ merge graphs on client sync\n",
    "    - update all unique elements to the most recent time\n",
    "\n",
    "This allows you to get the most recent client side updates possible, then when the clients sync and graphs merge, it allows you to properly translate the offline add / removes to the true most current graph.\n",
    "\n",
    "## Testing\n",
    "\n",
    "Here we are doing simple tests to make sure the add and remove implementation works correctly. For our LWW set we will do the following:\n",
    "\n",
    "+ L1 = a -> -a -> a\n",
    "    - here (-a) signifies we are removing a\n",
    "    - the final L1 set will be \\[a]"
   ],
   "cell_type": "markdown",
   "metadata": {}
  },
  {
   "cell_type": "code",
   "execution_count": 4,
   "metadata": {},
   "outputs": [
    {
     "output_type": "stream",
     "name": "stdout",
     "text": [
      "here we are adding element \"a\", removing it, then adding it.\n[{'element': 'a', 'timestamp': 2793.2002573}]\n[]\n[{'element': 'a', 'timestamp': 2793.2004221}]\n"
     ]
    }
   ],
   "source": [
    "from lww_set import *\n",
    "\n",
    "# setup graphs\n",
    "L1 = LWW(1)\n",
    "\n",
    "# test functionality of adding and removing\n",
    "print('here we are adding element \"a\", removing it, then adding it.')\n",
    "L1.add(\"a\")\n",
    "print(L1.get_current()) # should be [a]\n",
    "L1.remove(\"a\")\n",
    "print(L1.get_current()) # should be []\n",
    "L1.add(\"a\")\n",
    "print(L1.get_current()) # should be [a]"
   ]
  },
  {
   "source": [
    "The above worked correctly. We can see the element being added, removed, then again added.\n",
    "\n",
    "Lets try comparing, merging, and removing a node from a different graph. We will add nodes as:\n",
    "\n",
    "+ L1 = a -> b -> c\n",
    "+ L2 = d -> e -> -a\n",
    "+ L1 will be \\[a, b, c] and L2 will be \\[d, e, -a]\n",
    "+ when merged they will both be \\[b, c, d, e]"
   ],
   "cell_type": "markdown",
   "metadata": {}
  },
  {
   "cell_type": "code",
   "execution_count": 13,
   "metadata": {},
   "outputs": [
    {
     "output_type": "stream",
     "name": "stdout",
     "text": [
      "here we are adding elements [a, b, c] to Graph 1, and [d, e, -a] to Graph 2\ncomparison of LWW Graph 1 and 2: False\n[{'element': 'a', 'timestamp': 3526.808861}, {'element': 'b', 'timestamp': 3526.8088933}, {'element': 'c', 'timestamp': 3526.8089212}]\n[{'element': 'd', 'timestamp': 3526.8089473}, {'element': 'e', 'timestamp': 3526.8089725}]\n\nnow we are merging Graph 1 and 2 together ... \ncomparison of LWW Graph 1 and 2: True\n[{'element': 'b', 'timestamp': 3526.8088933}, {'element': 'c', 'timestamp': 3526.8089212}, {'element': 'd', 'timestamp': 3526.8089473}, {'element': 'e', 'timestamp': 3526.8089725}]\n[{'element': 'b', 'timestamp': 3526.8088933}, {'element': 'c', 'timestamp': 3526.8089212}, {'element': 'd', 'timestamp': 3526.8089473}, {'element': 'e', 'timestamp': 3526.8089725}]\n"
     ]
    }
   ],
   "source": [
    "# setup graphs\n",
    "L1 = LWW(1)\n",
    "L2 = LWW(2)\n",
    "\n",
    "print('here we are adding elements [a, b, c] to Graph 1, and [d, e, -a] to Graph 2')\n",
    "L1.add(\"a\")\n",
    "L1.add(\"b\")\n",
    "L1.add(\"c\")\n",
    "L2.add(\"d\")\n",
    "L2.add(\"e\")\n",
    "L2.remove(\"a\")\n",
    "print('comparison of LWW Graph 1 and 2:', L1.compare(L2)) # should be false\n",
    "print(L1.get_current()) # should be [a, b, c]\n",
    "print(L2.get_current()) # should be [d, e, a]\n",
    "\n",
    "print()\n",
    "print('now we are merging Graph 1 and 2 together ... ')\n",
    "L1.merge(L2)\n",
    "print('comparison of LWW Graph 1 and 2:', L1.compare(L2)) # should be true\n",
    "print(L1.get_current()) # should be [a, b, c, d, e]\n",
    "print(L2.get_current()) # should be [a, b, c, d, e]"
   ]
  },
  {
   "source": [
    "Finally, lets simulate a real task. I will define a list of elements, then have three clients randomly choose which to add or remove, update 2 of them, then add another client and randomly choose which ones to add or remove."
   ],
   "cell_type": "markdown",
   "metadata": {}
  },
  {
   "cell_type": "code",
   "execution_count": 33,
   "metadata": {},
   "outputs": [
    {
     "output_type": "stream",
     "name": "stdout",
     "text": [
      "L1 -> - | d\nL1 -> + | a\nL2 -> - | b\nL3 -> + | d\nL3 -> - | 5\n\n-------------------------------------------\nupdates after random choices\nL1 -> [{'element': 'a', 'timestamp': 5036.0707433}]\nL2 -> []\nL3 -> [{'element': 'd', 'timestamp': 5036.0707838}]\n\n-------------------------------------------\nmerging Graph 1 and 2 ...\nL1 -> [{'element': 'a', 'timestamp': 5036.0707433}]\nL2 -> [{'element': 'a', 'timestamp': 5036.0707433}]\nL3 -> [{'element': 'd', 'timestamp': 5036.0707838}]\n\nadding Graph L4 and running more random choices\nL2 -> - | d\nL3 -> + | d\nL2 -> + | c\nL4 -> - | alexander kahanek\nL3 -> - | c\nL1 -> + | a\nL3 -> + | c\nL2 -> + | d\nL4 -> + | a\nL1 -> + | d\n\n-------------------------------------------\nupdates after random choices\nL1 -> [{'element': 'c', 'timestamp': 5036.072105}, {'element': 'a', 'timestamp': 5036.0721653}, {'element': 'd', 'timestamp': 5036.0722374}]\nL2 -> [{'element': 'c', 'timestamp': 5036.072105}, {'element': 'a', 'timestamp': 5036.0721653}, {'element': 'd', 'timestamp': 5036.0722374}]\nL3 -> [{'element': 'd', 'timestamp': 5036.072085}, {'element': 'c', 'timestamp': 5036.0721832}]\nL4 -> [{'element': 'a', 'timestamp': 5036.0722197}]\n\n-------------------------------------------\nmerging Graph 1 <-> 3 and Graphs 2 <-> 4\nL1 -> [{'element': 'c', 'timestamp': 5036.0721832}, {'element': 'a', 'timestamp': 5036.0722197}, {'element': 'd', 'timestamp': 5036.0722374}]\nL2 -> [{'element': 'c', 'timestamp': 5036.0721832}, {'element': 'a', 'timestamp': 5036.0722197}, {'element': 'd', 'timestamp': 5036.0722374}]\nL3 -> [{'element': 'c', 'timestamp': 5036.0721832}, {'element': 'a', 'timestamp': 5036.0722197}, {'element': 'd', 'timestamp': 5036.0722374}]\nL4 -> [{'element': 'c', 'timestamp': 5036.0721832}, {'element': 'a', 'timestamp': 5036.0722197}, {'element': 'd', 'timestamp': 5036.0722374}]\n\n-------------------------------------------\nmerging all graphs\nL1 -> [{'element': 'c', 'timestamp': 5036.0721832}, {'element': 'a', 'timestamp': 5036.0722197}, {'element': 'd', 'timestamp': 5036.0722374}]\nL2 -> [{'element': 'c', 'timestamp': 5036.0721832}, {'element': 'a', 'timestamp': 5036.0722197}, {'element': 'd', 'timestamp': 5036.0722374}]\nL3 -> [{'element': 'c', 'timestamp': 5036.0721832}, {'element': 'a', 'timestamp': 5036.0722197}, {'element': 'd', 'timestamp': 5036.0722374}]\nL4 -> [{'element': 'c', 'timestamp': 5036.0721832}, {'element': 'a', 'timestamp': 5036.0722197}, {'element': 'd', 'timestamp': 5036.0722374}]\n"
     ]
    }
   ],
   "source": [
    "import random\n",
    "elements = [\"a\", \"b\", \"c\", \"d\", \"e\", \"f\", {\"dog\":\"link\"}, 5, \"alexander kahanek\"]\n",
    "\n",
    "L1 = LWW(1)\n",
    "L2 = LWW(2)\n",
    "L3 = LWW(3)\n",
    "\n",
    "graphs = [L1, L2, L3]\n",
    "\n",
    "for i in range(5):\n",
    "    g = random.randint(0, len(graphs)-1) # random graph choice\n",
    "    e = random.randint(0, len(elements)-1) # random element choice\n",
    "\n",
    "    rand_graph = graphs[g]\n",
    "    \n",
    "\n",
    "    if random.randint(0,1) == 1:\n",
    "        a_or_r = \"+\"\n",
    "        rand_graph.add(elements[e])\n",
    "    else:\n",
    "        a_or_r = \"-\"\n",
    "        rand_graph.remove(elements[e])\n",
    "\n",
    "    print(f'L{g+1} -> {a_or_r} | {elements[e]}')\n",
    "\n",
    "print()\n",
    "print('-------------------------------------------')\n",
    "print('updates after random choices')\n",
    "print(f'L1 -> {L1.get_current()}')\n",
    "print(f'L2 -> {L2.get_current()}')\n",
    "print(f'L3 -> {L3.get_current()}')\n",
    "\n",
    "print()\n",
    "print('-------------------------------------------')\n",
    "print('merging Graph 1 and 2 ...')\n",
    "L1.merge(L2)\n",
    "print(f'L1 -> {L1.get_current()}')\n",
    "print(f'L2 -> {L2.get_current()}')\n",
    "print(f'L3 -> {L3.get_current()}')\n",
    "\n",
    "print()\n",
    "print('adding Graph L4 and running more random choices')\n",
    "\n",
    "L4 = LWW(4)\n",
    "graphs.append(L4)\n",
    "\n",
    "for i in range(10):\n",
    "    g = random.randint(0, len(graphs)-1) # random graph choice\n",
    "    e = random.randint(0, len(elements)-1) # random element choice\n",
    "\n",
    "    rand_graph = graphs[g]\n",
    "    \n",
    "\n",
    "    if random.randint(0,1) == 1:\n",
    "        a_or_r = \"+\"\n",
    "        rand_graph.add(elements[e])\n",
    "    else:\n",
    "        a_or_r = \"-\"\n",
    "        rand_graph.remove(elements[e])\n",
    "\n",
    "    print(f'L{g+1} -> {a_or_r} | {elements[e]}')\n",
    "\n",
    "print()\n",
    "print('-------------------------------------------')\n",
    "print('updates after random choices')\n",
    "print(f'L1 -> {L1.get_current()}')\n",
    "print(f'L2 -> {L2.get_current()}')\n",
    "print(f'L3 -> {L3.get_current()}')\n",
    "print(f'L4 -> {L4.get_current()}')\n",
    "\n",
    "print()\n",
    "print('-------------------------------------------')\n",
    "print('merging Graph 1 <-> 3 and Graphs 2 <-> 4')\n",
    "L1.merge(L3)\n",
    "L2.merge(L4)\n",
    "print(f'L1 -> {L1.get_current()}')\n",
    "print(f'L2 -> {L2.get_current()}')\n",
    "print(f'L3 -> {L3.get_current()}')\n",
    "print(f'L4 -> {L4.get_current()}')\n",
    "\n",
    "print()\n",
    "print('-------------------------------------------')\n",
    "print('merging all graphs')\n",
    "L1.merge(L2)\n",
    "L2.merge(L3)\n",
    "L3.merge(L4)\n",
    "print(f'L1 -> {L1.get_current()}')\n",
    "print(f'L2 -> {L2.get_current()}')\n",
    "print(f'L3 -> {L3.get_current()}')\n",
    "print(f'L4 -> {L4.get_current()}')\n"
   ]
  },
  {
   "source": [
    "Here we see things working properly. It is hard to tell exactly because the two merges of Graphs 1 <-> 3 amd 2 <-> 4 are identical, but this is most likely due to just a low volume of choice and graphs. This would be much better with a lot more of each, but also exhausting to look at and figure out.\n",
    "\n",
    "Remember, for this only the most recent changes to the elements matter. It does not matter what graph the updates happened on, which is the whole point of the LWW Element Set with CRDT implementation!\n",
    "\n",
    "Thanks for reading, have a great day!"
   ],
   "cell_type": "markdown",
   "metadata": {}
  }
 ]
}