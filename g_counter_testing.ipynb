{
 "metadata": {
  "language_info": {
   "codemirror_mode": {
    "name": "ipython",
    "version": 3
   },
   "file_extension": ".py",
   "mimetype": "text/x-python",
   "name": "python",
   "nbconvert_exporter": "python",
   "pygments_lexer": "ipython3",
   "version": "3.8.3-final"
  },
  "orig_nbformat": 2,
  "kernelspec": {
   "name": "python3",
   "display_name": "Python 3.8.3 64-bit",
   "metadata": {
    "interpreter": {
     "hash": "0de36b31320ba4c88b4f85a74724f3d16c36a44df48581253710b1065e752d9e"
    }
   }
  }
 },
 "nbformat": 4,
 "nbformat_minor": 2,
 "cells": [
  {
   "source": [
    "# Testing functionality of G Counter CRDT implementations\n",
    "\n",
    "This code and document is made by Alexander Kahanek on 3/31/2021.\n",
    "\n",
    "Resources used for this project are:\n",
    "\n",
    "+ https://www.youtube.com/watch?v=iEFcmfmdh2w\n",
    "+ https://www.youtube.com/watch?v=OOlnp2bZVRs \n",
    "\n",
    "## G-Counter implementation\n",
    "\n",
    "The functionality of the G Counter is that it never decreases. Thus, it is an easy implementation to have multiple counters that keeps track of multiple states asynchronously and independently. This allows for chatter between two counters to periodically update and give fast estimates of the total count if the clients counter requests one. This gives the client a faster response time at the cost of not giving an exact value to the client, however it also creates great functionality for offline tallying as counters can merge nodes when they are back online.\n",
    "\n",
    "In this scenario, each G Counter has only one unique node that it can update; however, in actuality the code base can support as many unique nodes as wanted. In practice a GCounter would be launched when a client opens, where the nodes would pertain to any always-increasing counters. This app would need to be opened online to initially connect; and would be getting chatter from other counters (i.e, merges) asynchronously. However, the benefits of using this CRDT implementation would allow the app to go offline and still provide updates to the client, as well as store their own updates to eventually be pushed to other counters.\n",
    "\n",
    "The outline of the entire use case is:\n",
    "\n",
    "+ set up G Counters\n",
    "    - these counters can only update their unique nodes\n",
    "    - however, they store the node values for all seen nodes\n",
    "\n",
    "+ increment node values for individual G Counters, independently of others\n",
    "\n",
    "+ asynchronously chatter between nodes to keep values updating in the background\n",
    "\n",
    "+ merge G Counter nodes when chattering\n",
    "    - takes the max value of each node\n",
    "        + this works as G Counters in always-increasing, meaning the max value is always the most recent value that is seen\n",
    "\n",
    "+ continue incrementing and merging counters\n",
    "\n",
    "+ etc, etc,\n",
    "\n",
    "## Testing\n",
    "\n",
    "Here we are doing simple tests to make sure the basic implementation works correctly."
   ],
   "cell_type": "markdown",
   "metadata": {}
  },
  {
   "cell_type": "code",
   "execution_count": 1,
   "metadata": {},
   "outputs": [
    {
     "output_type": "stream",
     "name": "stdout",
     "text": [
      "checking to make sure the counter is initialized: G1 = <g_counter.GCounter object at 0x0000022A69A99280>\nadded nodes with the same ID to G1 and G2 and incremented them\ng counter node 1 = {1: 3}, sum = 3\ng counter node 2 = {2: 1}, sum = 1\nmerging the two counters\ng counter node 1 = {1: 3, 2: 1}, sum = 4\ng counter node 2 = {1: 3, 2: 1}, sum = 4\n"
     ]
    }
   ],
   "source": [
    "from g_counter import *\n",
    "import random\n",
    "\n",
    "G1 = GCounter(1)\n",
    "G2 = GCounter(2)\n",
    "\n",
    "print(f'checking to make sure the counter is initialized: G1 = {G1}')\n",
    "\n",
    "# adding some nodes and incrementing to both\n",
    "G1.add_node(1)\n",
    "G2.add_node(2)\n",
    "\n",
    "G1.increment(1)\n",
    "G1.increment(1)\n",
    "G1.increment(1)\n",
    "\n",
    "G2.increment(2)\n",
    "\n",
    "print('added nodes with the same ID to G1 and G2 and incremented them')\n",
    "G1.print_gc()\n",
    "G2.print_gc()\n",
    "\n",
    "print('merging the two counters')\n",
    "G1.merge(G2)\n",
    "G1.print_gc()\n",
    "G2.print_gc()\n",
    "\n"
   ]
  },
  {
   "source": [
    "Next, we will do some more complicated tests...\n",
    "\n",
    "Lets simulate that we have 3 counters, which each keep track of one distinct counters.\n",
    "\n",
    "+ GCounter 1 -> node 1\n",
    "+ GCounter 2 -> node 2\n",
    "+ GCounter 3 -> node 3\n",
    "\n",
    "This means that only node 1 can be incremented by GCounter 1, and so on. From here we will run a random choice of 100 increments without any merges. We will then merge GCounter 1 and GCounter 2, add a new counter (GCounter 4 -> node 4) and randomly apply 1000 increments, then merge all 4 counters. We will not initialize any nodes to the counters that have not seen it before, meaning it will take in the new information on a merge and create that node counter on the fly.\n",
    "\n",
    "This effectively simulates a real scenario usage of this CRDT implementation. It allows for new counters to be updated and added periodically. The goal for these tests is to end our final full update with all increments being accounted for. In total we will push 1100 increments.\n"
   ],
   "cell_type": "markdown",
   "metadata": {}
  },
  {
   "cell_type": "code",
   "execution_count": 2,
   "metadata": {},
   "outputs": [
    {
     "output_type": "stream",
     "name": "stdout",
     "text": [
      "initialized and randomly incremented elements for three counters\ng counter node 1 = {1: 35}, sum = 35\ng counter node 2 = {2: 29}, sum = 29\ng counter node 3 = {3: 36}, sum = 36\n\nhere we will merge counter 1 and 2\ng counter node 1 = {1: 35, 2: 29}, sum = 64\ng counter node 2 = {1: 35, 2: 29}, sum = 64\ng counter node 3 = {3: 36}, sum = 36\n\nnext we added a fourth counter and incremented more nodes randomly\ng counter node 1 = {1: 297, 2: 272}, sum = 569\ng counter node 2 = {1: 297, 2: 272}, sum = 569\ng counter node 3 = {3: 302}, sum = 302\ng counter node 4 = {4: 229}, sum = 229\n\nnow lets merge counters 1 and 3, then counters 2 and 4\ng counter node 1 = {1: 297, 2: 272, 4: 0, 3: 302}, sum = 871\ng counter node 2 = {1: 297, 2: 272, 4: 229}, sum = 798\ng counter node 3 = {1: 297, 2: 272, 4: 0, 3: 302}, sum = 871\ng counter node 4 = {1: 297, 2: 272, 4: 229}, sum = 798\n\nnow merge counters 1 and 4, then counters 2 and 3\ng counter node 1 = {1: 297, 2: 272, 4: 229, 3: 302}, sum = 1100\ng counter node 2 = {1: 297, 2: 272, 4: 229, 3: 302}, sum = 1100\ng counter node 3 = {1: 297, 2: 272, 4: 229, 3: 302}, sum = 1100\ng counter node 4 = {1: 297, 2: 272, 4: 229, 3: 302}, sum = 1100\n\n"
     ]
    }
   ],
   "source": [
    "# create counters\n",
    "G1 = GCounter(1)\n",
    "G2 = GCounter(2)\n",
    "G3 = GCounter(3)\n",
    "\n",
    "# initialize counters\n",
    "G1.add_node(1)\n",
    "G2.add_node(2)\n",
    "G3.add_node(3)\n",
    "\n",
    "counters = [G1, G2, G3]\n",
    "\n",
    "for i in range(100):\n",
    "    choice_update = random.randint(1,len(counters))\n",
    "    counters[choice_update-1].increment(choice_update)\n",
    "\n",
    "print('initialized and randomly incremented elements for three counters')\n",
    "[G.print_gc() for G in counters]\n",
    "print()\n",
    "\n",
    "print('here we will merge counter 1 and 2')\n",
    "G1.merge(G2)\n",
    "[G.print_gc() for G in counters]\n",
    "print()\n",
    "\n",
    "print('next we added a fourth counter and incremented more nodes randomly')\n",
    "G4 = GCounter(4)\n",
    "G4.add_node(4)\n",
    "counters.append(G4)\n",
    "\n",
    "for i in range(1000):\n",
    "    choice_update = random.randint(1,len(counters))\n",
    "    counters[choice_update-1].increment(choice_update)\n",
    "\n",
    "[G.print_gc() for G in counters]\n",
    "print()\n",
    "\n",
    "print('now lets merge counters 1 and 3, then counters 2 and 4')\n",
    "G2.merge(G4)\n",
    "G1.merge(G3)\n",
    "[G.print_gc() for G in counters]\n",
    "print()\n",
    "\n",
    "print('now merge counters 1 and 4, then counters 2 and 3')\n",
    "G1.merge(G4)\n",
    "G2.merge(G3)\n",
    "[G.print_gc() for G in counters]\n",
    "print()"
   ]
  },
  {
   "source": [
    "# Summary\n",
    "\n",
    "As we see, each of our 4 counters correctly had a sum of 1100 at the end, meaning each counter fully accounted for every increment. As we kept information hidden and tried to replicate a real life implementation of the counters, this is great news!\n",
    "\n",
    "One thing I do notice is that when updating the counters after the merge of counter 1 <-> 3, it added the node for counter 4 without interacting with any counters that had yet seen a node 4. I assume this is due to some python pointer issues; however, my base OOP knowledge on python is not deep enough to figure out why. Since this is a simple implementation, I will not attempt to fix that issue."
   ],
   "cell_type": "markdown",
   "metadata": {}
  }
 ]
}